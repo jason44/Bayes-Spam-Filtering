{
 "cells": [
  {
   "cell_type": "code",
   "execution_count": 1,
   "id": "444b6ed2-71be-4944-b301-e3f0450acc14",
   "metadata": {},
   "outputs": [],
   "source": [
    "import torch\n",
    "import numpy as np\n",
    "import matplotlib.pyplot as plt\n",
    "import os\n",
    "import glob\n",
    "import random"
   ]
  },
  {
   "cell_type": "code",
   "execution_count": 2,
   "id": "7c94c11e-b323-4712-b3ba-73e66578a827",
   "metadata": {},
   "outputs": [],
   "source": [
    "pattern = os.path.join('tr', \"*.txt\")\n",
    "spam_files = glob.glob(pattern)\n",
    "spam_counts = {}\n",
    "\n",
    "pattern = os.path.join('ham', \"*.txt\")\n",
    "ham_files = glob.glob(pattern)\n",
    "ham_counts = {}\n",
    "\n",
    "def get_counts(counts, files, sample_size=256):\n",
    "    ix = torch.randint(0, len(files), (256,)).tolist()\n",
    "    for x in ix:\n",
    "        fp = files[x]\n",
    "        f = open(fp, 'r')\n",
    "        lines = f.read().split('\\n')[5:]\n",
    "        for line in lines:\n",
    "            words = line.split(' ')\n",
    "            words = [w.replace('\\t', '').replace('!', '').replace('.', '').replace(',', '').replace('?', '').replace('*', '').lower() for w in words]\n",
    "            for w in words:\n",
    "                if counts.get(w): counts[w] += 1\n",
    "                else: counts[w] = 1\n",
    "                    \n",
    "get_counts(spam_counts, spam_files)\n",
    "get_counts(ham_counts, ham_files, sample_size=1024)"
   ]
  },
  {
   "cell_type": "code",
   "execution_count": 3,
   "id": "9661af2b-2b23-45f4-abf3-94df57525a27",
   "metadata": {},
   "outputs": [
    {
     "name": "stdout",
     "output_type": "stream",
     "text": [
      "104700\n",
      "[('to', 1900), ('the', 1824), ('and', 1808), ('of', 1305), ('͏', 1273), ('you', 915), ('for', 864), ('a', 826), ('in', 794), ('on', 768)]\n"
     ]
    }
   ],
   "source": [
    "ss = sum(spam_counts.values())\n",
    "print(ss)\n",
    "\n",
    "# WHITELIST\n",
    "spam_counts[' '] = 1\n",
    "spam_counts[''] = 1\n",
    "spam_counts['\\u2007͏'] = 1\n",
    "spam_counts['\\u200c'] = 1\n",
    "\n",
    "remove = []\n",
    "for (k,v) in spam_counts.items():\n",
    "    if v/ss > 0.02 or v/ss <= 3/ss: remove.append(k)\n",
    "for r in remove: spam_counts.pop(r)\n",
    "\n",
    "\n",
    "\n",
    "sorted_spam_counts = sorted(spam_counts.items(), key=lambda x: x[1], reverse=True)\n",
    "print(sorted_spam_counts[:10])"
   ]
  },
  {
   "cell_type": "code",
   "execution_count": 4,
   "id": "f7bc66bf-26c5-4c02-8db6-02bf507fd77c",
   "metadata": {},
   "outputs": [
    {
     "name": "stdout",
     "output_type": "stream",
     "text": [
      "162711\n",
      "[('and', 2556), ('the', 2281), ('\\u200c', 2248), ('to', 1847), ('a', 1550), ('for', 1500), ('off', 1490), ('with', 1365), ('of', 1323), ('your', 1186)]\n"
     ]
    }
   ],
   "source": [
    "sh = sum(ham_counts.values())\n",
    "print(sh)\n",
    "\n",
    "remove = []\n",
    "for (k,v) in ham_counts.items():\n",
    "    if v/sh > 0.02 or v/sh <= 3/ss: remove.append(k)\n",
    "for r in remove: ham_counts.pop(r)\n",
    "\n",
    "sorted_ham_counts = sorted(ham_counts.items(), key=lambda x: x[1], reverse=True)\n",
    "print(sorted_ham_counts[:10])"
   ]
  },
  {
   "cell_type": "code",
   "execution_count": 5,
   "id": "cd5ad9d6-d1f6-4011-93f3-d6d6e147b433",
   "metadata": {},
   "outputs": [],
   "source": [
    "def spam_prob(w):\n",
    "    ss = sum(spam_counts.values())\n",
    "    sh = sum(ham_counts.values())\n",
    "    ps = 0\n",
    "    if spam_counts.get(w): ps = spam_counts[w]\n",
    "    ph = 0\n",
    "    if ham_counts.get(w): ph = ham_counts[w]\n",
    "    p = (ps / ss) / ((ps / ss) + (ph / sh))\n",
    "    return p"
   ]
  },
  {
   "cell_type": "code",
   "execution_count": 6,
   "id": "b5e5ae02-4464-4f17-85c1-28ea8751b053",
   "metadata": {},
   "outputs": [
    {
     "name": "stdout",
     "output_type": "stream",
     "text": [
      "͏\n",
      "university\n",
      "sponsored\n",
      "admissions\n",
      "best\n",
      "1157\n"
     ]
    }
   ],
   "source": [
    "spam_words = []\n",
    "for item in sorted_spam_counts:\n",
    "    if spam_prob(item[0]) > 0.90:\n",
    "        spam_words.append(item[0])\n",
    "        \n",
    "for w in spam_words[:5]: print(w)\n",
    "print(len(spam_words))"
   ]
  },
  {
   "cell_type": "code",
   "execution_count": 7,
   "id": "fb4618d5-b4f2-44cc-bb19-dc860ac91828",
   "metadata": {},
   "outputs": [
    {
     "name": "stdout",
     "output_type": "stream",
     "text": [
      "to\n",
      "the\n",
      "and\n",
      "of\n",
      "you\n",
      "1151\n"
     ]
    }
   ],
   "source": [
    "not_spam = []\n",
    "for item in sorted_spam_counts:\n",
    "    if spam_prob(item[0]) <= 0.90:\n",
    "        not_spam.append(item[0])\n",
    "        \n",
    "for w in not_spam[:5]: print(w)\n",
    "print(len(not_spam))"
   ]
  }
 ],
 "metadata": {
  "kernelspec": {
   "display_name": "Python 3 (ipykernel)",
   "language": "python",
   "name": "python3"
  },
  "language_info": {
   "codemirror_mode": {
    "name": "ipython",
    "version": 3
   },
   "file_extension": ".py",
   "mimetype": "text/x-python",
   "name": "python",
   "nbconvert_exporter": "python",
   "pygments_lexer": "ipython3",
   "version": "3.12.3"
  }
 },
 "nbformat": 4,
 "nbformat_minor": 5
}
